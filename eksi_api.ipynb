{
 "cells": [
  {
   "cell_type": "code",
   "execution_count": 1,
   "metadata": {
    "ExecuteTime": {
     "end_time": "2020-03-18T08:00:05.325418Z",
     "start_time": "2020-03-18T08:00:05.226698Z"
    }
   },
   "outputs": [],
   "source": [
    "import requests"
   ]
  },
  {
   "cell_type": "code",
   "execution_count": 2,
   "metadata": {},
   "outputs": [],
   "source": [
    "host = \"https://api.eksisozluk.com\""
   ]
  },
  {
   "cell_type": "markdown",
   "metadata": {},
   "source": [
    "# LOGIN"
   ]
  },
  {
   "cell_type": "code",
   "execution_count": 3,
   "metadata": {
    "ExecuteTime": {
     "end_time": "2020-03-18T08:01:00.241982Z",
     "start_time": "2020-03-18T08:01:00.236339Z"
    }
   },
   "outputs": [],
   "source": [
    "session = requests.session()"
   ]
  },
  {
   "cell_type": "code",
   "execution_count": 4,
   "metadata": {
    "ExecuteTime": {
     "end_time": "2020-03-18T08:01:02.241349Z",
     "start_time": "2020-03-18T08:01:02.236927Z"
    }
   },
   "outputs": [],
   "source": [
    "login_headers = {\n",
    "    'accept': 'application/json',\n",
    "    'accept-encoding': 'gzip',\n",
    "    'user-agent': 'okhttp/2.3.0',\n",
    "}"
   ]
  },
  {
   "cell_type": "code",
   "execution_count": 5,
   "metadata": {
    "ExecuteTime": {
     "end_time": "2020-03-18T08:01:05.924755Z",
     "start_time": "2020-03-18T08:01:05.921889Z"
    }
   },
   "outputs": [],
   "source": [
    "session.headers = login_headers"
   ]
  },
  {
   "cell_type": "code",
   "execution_count": 6,
   "metadata": {
    "ExecuteTime": {
     "end_time": "2020-03-18T08:03:03.677780Z",
     "start_time": "2020-03-18T08:03:03.670268Z"
    }
   },
   "outputs": [],
   "source": [
    "data = {'grant_type': 'password',\n",
    "        'username': 'USERNAME',\n",
    "        'password': 'PASSWORD', \n",
    "        'client_secret': '6cba2458-6fa8-4c55-8d72-78620542e43d'}"
   ]
  },
  {
   "cell_type": "code",
   "execution_count": 7,
   "metadata": {
    "ExecuteTime": {
     "end_time": "2020-03-18T08:01:38.195658Z",
     "start_time": "2020-03-18T08:01:37.988642Z"
    }
   },
   "outputs": [],
   "source": [
    "r = session.get(host + \"/token\", data=data)"
   ]
  },
  {
   "cell_type": "code",
   "execution_count": null,
   "metadata": {},
   "outputs": [],
   "source": [
    "r.status_code"
   ]
  },
  {
   "cell_type": "code",
   "execution_count": 8,
   "metadata": {
    "ExecuteTime": {
     "end_time": "2020-03-18T08:02:13.547688Z",
     "start_time": "2020-03-18T08:02:13.542350Z"
    }
   },
   "outputs": [],
   "source": [
    "session.headers['authorization'] = \"bearer \" + r.json()['access_token']"
   ]
  },
  {
   "cell_type": "markdown",
   "metadata": {},
   "source": [
    "# TOPIC"
   ]
  },
  {
   "cell_type": "code",
   "execution_count": 17,
   "metadata": {
    "ExecuteTime": {
     "end_time": "2020-03-17T13:59:11.503972Z",
     "start_time": "2020-03-17T13:59:11.500218Z"
    }
   },
   "outputs": [],
   "source": [
    "topic_base = \"/v1/topic/\"\n",
    "topic = \"31782\""
   ]
  },
  {
   "cell_type": "code",
   "execution_count": 18,
   "metadata": {
    "ExecuteTime": {
     "end_time": "2020-03-17T13:59:12.001485Z",
     "start_time": "2020-03-17T13:59:11.771215Z"
    }
   },
   "outputs": [],
   "source": [
    "r = session.get(host + topic_base + topic)"
   ]
  },
  {
   "cell_type": "code",
   "execution_count": 19,
   "metadata": {
    "ExecuteTime": {
     "end_time": "2020-03-17T13:59:12.134662Z",
     "start_time": "2020-03-17T13:59:12.116112Z"
    }
   },
   "outputs": [
    {
     "data": {
      "text/plain": [
       "dict_keys(['Id', 'Title', 'Entries', 'PageCount', 'PageSize', 'PageIndex', 'EntryCounts', 'DraftEntry', 'IsTracked', 'IsTrackable', 'Slug', 'Video', 'Disambiguations', 'IsAmaTopic'])"
      ]
     },
     "execution_count": 19,
     "metadata": {},
     "output_type": "execute_result"
    }
   ],
   "source": [
    "r.json().keys()"
   ]
  },
  {
   "cell_type": "code",
   "execution_count": 20,
   "metadata": {},
   "outputs": [
    {
     "data": {
      "text/plain": [
       "31782"
      ]
     },
     "execution_count": 20,
     "metadata": {},
     "output_type": "execute_result"
    }
   ],
   "source": [
    "r.json()['Id']"
   ]
  },
  {
   "cell_type": "code",
   "execution_count": 21,
   "metadata": {},
   "outputs": [
    {
     "data": {
      "text/plain": [
       "'pena'"
      ]
     },
     "execution_count": 21,
     "metadata": {},
     "output_type": "execute_result"
    }
   ],
   "source": [
    "r.json()['Title']"
   ]
  },
  {
   "cell_type": "code",
   "execution_count": 22,
   "metadata": {},
   "outputs": [
    {
     "data": {
      "text/plain": [
       "{'Id': 1,\n",
       " 'Content': 'gitar calmak icin kullanilan minik plastik garip nesne.',\n",
       " 'Author': {'Nick': 'ssg', 'Id': 8097},\n",
       " 'Created': '1999-02-15T00:00:00',\n",
       " 'LastUpdated': None,\n",
       " 'IsFavorite': False,\n",
       " 'FavoriteCount': 11159,\n",
       " 'Hidden': False,\n",
       " 'Active': True,\n",
       " 'CommentCount': 1,\n",
       " 'CommentSummary': None}"
      ]
     },
     "execution_count": 22,
     "metadata": {},
     "output_type": "execute_result"
    }
   ],
   "source": [
    "r.json()['Entries'][0]"
   ]
  },
  {
   "cell_type": "markdown",
   "metadata": {},
   "source": [
    "# ENTRY"
   ]
  },
  {
   "cell_type": "code",
   "execution_count": 9,
   "metadata": {},
   "outputs": [],
   "source": [
    "entry_base = \"/v1/entry/\"\n",
    "entry = \"1\""
   ]
  },
  {
   "cell_type": "code",
   "execution_count": 10,
   "metadata": {},
   "outputs": [],
   "source": [
    "r = session.get(host + entry_base + entry)"
   ]
  },
  {
   "cell_type": "code",
   "execution_count": 11,
   "metadata": {},
   "outputs": [
    {
     "data": {
      "text/plain": [
       "dict_keys(['Id', 'Title', 'Entries', 'PageCount', 'PageSize', 'PageIndex', 'EntryCounts', 'DraftEntry', 'IsTracked', 'IsTrackable', 'Slug', 'Video', 'Disambiguations', 'IsAmaTopic'])"
      ]
     },
     "execution_count": 11,
     "metadata": {},
     "output_type": "execute_result"
    }
   ],
   "source": [
    "r.json().keys()"
   ]
  },
  {
   "cell_type": "code",
   "execution_count": 13,
   "metadata": {},
   "outputs": [
    {
     "data": {
      "text/plain": [
       "31782"
      ]
     },
     "execution_count": 13,
     "metadata": {},
     "output_type": "execute_result"
    }
   ],
   "source": [
    "r.json()['Id'] # Notice /entry/ endpoint returns topics"
   ]
  },
  {
   "cell_type": "code",
   "execution_count": 15,
   "metadata": {},
   "outputs": [
    {
     "data": {
      "text/plain": [
       "{'Id': 1,\n",
       " 'Content': 'gitar calmak icin kullanilan minik plastik garip nesne.',\n",
       " 'Author': {'Nick': 'ssg', 'Id': 8097},\n",
       " 'Created': '1999-02-15T00:00:00',\n",
       " 'LastUpdated': None,\n",
       " 'IsFavorite': False,\n",
       " 'FavoriteCount': 11159,\n",
       " 'Hidden': False,\n",
       " 'Active': True,\n",
       " 'CommentCount': 1,\n",
       " 'CommentSummary': None}"
      ]
     },
     "execution_count": 15,
     "metadata": {},
     "output_type": "execute_result"
    }
   ],
   "source": [
    "r.json()['Entries'][0]"
   ]
  },
  {
   "cell_type": "code",
   "execution_count": 16,
   "metadata": {},
   "outputs": [
    {
     "data": {
      "text/plain": [
       "1"
      ]
     },
     "execution_count": 16,
     "metadata": {},
     "output_type": "execute_result"
    }
   ],
   "source": [
    "r.json()['Entries'][0]['Id']"
   ]
  }
 ],
 "metadata": {
  "kernelspec": {
   "display_name": "Python 3",
   "language": "python",
   "name": "python3"
  },
  "language_info": {
   "codemirror_mode": {
    "name": "ipython",
    "version": 3
   },
   "file_extension": ".py",
   "mimetype": "text/x-python",
   "name": "python",
   "nbconvert_exporter": "python",
   "pygments_lexer": "ipython3",
   "version": "3.7.4"
  },
  "varInspector": {
   "cols": {
    "lenName": 16,
    "lenType": 16,
    "lenVar": 40
   },
   "kernels_config": {
    "python": {
     "delete_cmd_postfix": "",
     "delete_cmd_prefix": "del ",
     "library": "var_list.py",
     "varRefreshCmd": "print(var_dic_list())"
    },
    "r": {
     "delete_cmd_postfix": ") ",
     "delete_cmd_prefix": "rm(",
     "library": "var_list.r",
     "varRefreshCmd": "cat(var_dic_list()) "
    }
   },
   "types_to_exclude": [
    "module",
    "function",
    "builtin_function_or_method",
    "instance",
    "_Feature"
   ],
   "window_display": false
  }
 },
 "nbformat": 4,
 "nbformat_minor": 2
}
