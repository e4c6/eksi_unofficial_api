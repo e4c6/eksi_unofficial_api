{
 "cells": [
  {
   "cell_type": "code",
   "execution_count": 7,
   "source": [
    "from EksiSozluk import EksiApi"
   ],
   "outputs": [],
   "metadata": {}
  },
  {
   "cell_type": "code",
   "execution_count": 8,
   "source": [
    "api = EksiApi()"
   ],
   "outputs": [
    {
     "output_type": "stream",
     "name": "stderr",
     "text": [
      "DEBUG:urllib3.connectionpool:Starting new HTTPS connection (1): api.eksisozluk.com:443\n",
      "DEBUG:urllib3.connectionpool:https://api.eksisozluk.com:443 \"POST /v2/account/anonymoustoken HTTP/1.1\" 200 None\n",
      "DEBUG:EksiSozluk:Token: EksiToken(rank=0, access_token='JD_0Wpnc2PyIKhxeKXiq-Y2qwQTTtAqMgs9eyIeTdk3Knl-TRz6BFztatLg6BXNrtmWH3qH9NhzTPcZNXgOfGfuFOGdqE3aMTI-os6MlxKH4O1asrY6P5IeYBPAMOXBwW3UlYiBOHJ6ACF3nEi0l2Pa5KeCFgD3wq9iwXdxmNI95j9raoDoMJxHIDx8S0Rd0AiOM04NpQwc0gxRUukUP6w', token_type='bearer', expires_in=86400, user_id=None, refresh_token=None, nick=None, issued_at=datetime.datetime(2021, 8, 24, 16, 4, 6, 91340), expires_at=datetime.datetime(2021, 8, 25, 16, 4, 6, 91340))\n"
     ]
    }
   ],
   "metadata": {}
  },
  {
   "cell_type": "code",
   "execution_count": 10,
   "source": [
    "api.get_entry(1000)"
   ],
   "outputs": [
    {
     "output_type": "stream",
     "name": "stderr",
     "text": [
      "DEBUG:urllib3.connectionpool:https://api.eksisozluk.com:443 \"GET /v2/entry/1000 HTTP/1.1\" 200 None\n",
      "DEBUG:EksiSozluk:Response hook\n"
     ]
    },
    {
     "output_type": "execute_result",
     "data": {
      "text/plain": [
       "{'Success': False, 'Message': 'entry bulunamadı', 'Data': None}"
      ]
     },
     "metadata": {},
     "execution_count": 10
    }
   ],
   "metadata": {}
  },
  {
   "cell_type": "code",
   "execution_count": 13,
   "source": [
    "api.get_topic(3288194)"
   ],
   "outputs": [
    {
     "output_type": "stream",
     "name": "stderr",
     "text": [
      "DEBUG:urllib3.connectionpool:https://api.eksisozluk.com:443 \"GET /v2/topic/3288194 HTTP/1.1\" 200 None\n",
      "DEBUG:EksiSozluk:Response hook\n"
     ]
    },
    {
     "output_type": "execute_result",
     "data": {
      "text/plain": [
       "{'Success': True,\n",
       " 'Message': None,\n",
       " 'Data': {'Id': 3288194,\n",
       "  'Title': 'ayy ben yumurta bile kıramam',\n",
       "  'Entries': [{'Id': 27684992,\n",
       "    'Content': '(bkz: türk kızı)',\n",
       "    'Author': {'Nick': 'muto', 'Id': 170931},\n",
       "    'Created': '2012-03-08T10:16:53.29',\n",
       "    'LastUpdated': None,\n",
       "    'IsFavorite': False,\n",
       "    'FavoriteCount': 0,\n",
       "    'Hidden': False,\n",
       "    'Active': True,\n",
       "    'CommentCount': 0,\n",
       "    'CommentSummary': None,\n",
       "    'AvatarUrl': None,\n",
       "    'Media': None},\n",
       "   {'Id': 27685058,\n",
       "    'Content': 'bir `turk erkegi` beyanati. soyleme formatindaki feminenlik annesiyle gecirdigi uzun yillarin urunudur.\\r\\nmodern olmayi yemek yap(a)mamakla es deger tutan turk kizlari da ayni (tur) annenin cocugu olabilir. \\r\\nelbet bu cocuklarin bir de babalari vardir.',\n",
       "    'Author': {'Nick': 'ntt', 'Id': 564068},\n",
       "    'Created': '2012-03-08T10:26:13.993',\n",
       "    'LastUpdated': None,\n",
       "    'IsFavorite': False,\n",
       "    'FavoriteCount': 3,\n",
       "    'Hidden': False,\n",
       "    'Active': True,\n",
       "    'CommentCount': 0,\n",
       "    'CommentSummary': None,\n",
       "    'AvatarUrl': None,\n",
       "    'Media': None},\n",
       "   {'Id': 27685133,\n",
       "    'Content': \"bazı bayanların marifetmiş gibi kullandığı cümle. ha neyin marifeti onu bilemedim. 'evimde bana yumurta kıracak hizmetlilerim var' demek istiyor zaar.\",\n",
       "    'Author': {'Nick': 'nothingbutfaith', 'Id': 995932},\n",
       "    'Created': '2012-03-08T10:37:44.61',\n",
       "    'LastUpdated': None,\n",
       "    'IsFavorite': False,\n",
       "    'FavoriteCount': 2,\n",
       "    'Hidden': False,\n",
       "    'Active': True,\n",
       "    'CommentCount': 0,\n",
       "    'CommentSummary': None,\n",
       "    'AvatarUrl': None,\n",
       "    'Media': None},\n",
       "   {'Id': 27685193,\n",
       "    'Content': 'erkek yada kadın olsun bunu diyen salağın önde gideni fenerle yol gösterenidir.. at yere, yumurta kendi kendine kırılır zaten :/ valla!',\n",
       "    'Author': {'Nick': 'bidi bidi bi sus artik', 'Id': 403658},\n",
       "    'Created': '2012-03-08T10:47:08.11',\n",
       "    'LastUpdated': None,\n",
       "    'IsFavorite': False,\n",
       "    'FavoriteCount': 5,\n",
       "    'Hidden': False,\n",
       "    'Active': True,\n",
       "    'CommentCount': 0,\n",
       "    'CommentSummary': None,\n",
       "    'AvatarUrl': None,\n",
       "    'Media': None},\n",
       "   {'Id': 27685213,\n",
       "    'Content': 'kız yada erkek kim söylerse söylesin iticidir. 7 yaşındaki yeğenim bile puding yapıyor ,yumurta da kırıyor. 7 yaşındaki bebe kadar el beceriniz yok, bir de bununla övünüyorsunuz aferim!',\n",
       "    'Author': {'Nick': 'ben senin derdini cekemem gonul', 'Id': 1155409},\n",
       "    'Created': '2012-03-08T10:48:53.74',\n",
       "    'LastUpdated': None,\n",
       "    'IsFavorite': False,\n",
       "    'FavoriteCount': 2,\n",
       "    'Hidden': False,\n",
       "    'Active': True,\n",
       "    'CommentCount': 0,\n",
       "    'CommentSummary': None,\n",
       "    'AvatarUrl': None,\n",
       "    'Media': None},\n",
       "   {'Id': 27685318,\n",
       "    'Content': '(bkz. çöp adam bile çizemem)',\n",
       "    'Author': {'Nick': 'robin', 'Id': 7988},\n",
       "    'Created': '2012-03-08T11:00:33.68',\n",
       "    'LastUpdated': None,\n",
       "    'IsFavorite': False,\n",
       "    'FavoriteCount': 0,\n",
       "    'Hidden': False,\n",
       "    'Active': True,\n",
       "    'CommentCount': 0,\n",
       "    'CommentSummary': None,\n",
       "    'AvatarUrl': 'https://img.ekstat.com/profiles/robin-636349807135267587.jpg',\n",
       "    'Media': None},\n",
       "   {'Id': 27685338,\n",
       "    'Content': 'ilgi çekme eşiğini aşan cümledir . artık \"ben mükemmel yemek yaparım\" zamanı.',\n",
       "    'Author': {'Nick': 'pespayecir', 'Id': 456406},\n",
       "    'Created': '2012-03-08T11:03:33.27',\n",
       "    'LastUpdated': None,\n",
       "    'IsFavorite': False,\n",
       "    'FavoriteCount': 0,\n",
       "    'Hidden': False,\n",
       "    'Active': True,\n",
       "    'CommentCount': 0,\n",
       "    'CommentSummary': None,\n",
       "    'AvatarUrl': None,\n",
       "    'Media': None},\n",
       "   {'Id': 27685416,\n",
       "    'Content': 'bu sözü söyleyen kişi, ciddi başka meziyetleri olan, anormal para kazanan veya dünya barışına, sağlığına vs. katkı sağlayan insanlardan biri ise saygı duyulmalıdır.\\r\\n\\r\\nama bu yaşa kadar herşeyini anası yaptıysa veya ekmek peynir yemekten hatta neyden yapıldığı belli olmayan ucuz sokak yemeklerinden karnını doyurduysa bu söylediği şey anormal iticidir. meziyet değildir söylediği şey. \\r\\n\\r\\ntabii bi de karşı tarafta daha da itici olan da var..internetten gördüğü yarak kürek yemekleri yapıp bunu dünyaya ilan edenler. bu da kötü tabii ki.',\n",
       "    'Author': {'Nick': 'yoruk ali efe', 'Id': 689963},\n",
       "    'Created': '2012-03-08T11:11:48.39',\n",
       "    'LastUpdated': '2012-03-08T11:14:00',\n",
       "    'IsFavorite': False,\n",
       "    'FavoriteCount': 0,\n",
       "    'Hidden': False,\n",
       "    'Active': True,\n",
       "    'CommentCount': 0,\n",
       "    'CommentSummary': None,\n",
       "    'AvatarUrl': None,\n",
       "    'Media': None},\n",
       "   {'Id': 27685577,\n",
       "    'Content': 'yumurta yemeyen birinin kullanabileceği türde bir cümle. bir keresinde deneme amaçlı kırayım dedim ama fazlaca gerildim paramparça olmasından ve bıraktım. neticede yumurta lan, yakınlarda biri mutlaka kırıyordur ne gerek var mis gibi makarna yapmak varken değil mi?',\n",
       "    'Author': {'Nick': 'kahin ahtapot paul', 'Id': 868475},\n",
       "    'Created': '2012-03-08T11:28:33.91',\n",
       "    'LastUpdated': None,\n",
       "    'IsFavorite': False,\n",
       "    'FavoriteCount': 0,\n",
       "    'Hidden': False,\n",
       "    'Active': True,\n",
       "    'CommentCount': 0,\n",
       "    'CommentSummary': None,\n",
       "    'AvatarUrl': None,\n",
       "    'Media': None},\n",
       "   {'Id': 27685624,\n",
       "    'Content': '-niye mal mısın !',\n",
       "    'Author': {'Nick': 'nikimist', 'Id': 1176330},\n",
       "    'Created': '2012-03-08T11:33:48.973',\n",
       "    'LastUpdated': None,\n",
       "    'IsFavorite': False,\n",
       "    'FavoriteCount': 1,\n",
       "    'Hidden': False,\n",
       "    'Active': True,\n",
       "    'CommentCount': 0,\n",
       "    'CommentSummary': None,\n",
       "    'AvatarUrl': None,\n",
       "    'Media': None}],\n",
       "  'PageCount': 36,\n",
       "  'PageSize': 10,\n",
       "  'PageIndex': 1,\n",
       "  'PinnedEntry': None,\n",
       "  'EntryCounts': {'BeforeFirstEntry': 0,\n",
       "   'AfterLastEntry': 350,\n",
       "   'Buddy': 0,\n",
       "   'Total': 360},\n",
       "  'DraftEntry': None,\n",
       "  'IsTracked': False,\n",
       "  'IsTrackable': False,\n",
       "  'Slug': 'ayy-ben-yumurta-bile-kiramam',\n",
       "  'Video': {'DisplayInfo': None, 'InTopicVideo': False},\n",
       "  'Disambiguations': [],\n",
       "  'IsAmaTopic': False,\n",
       "  'MatterCount': 0}}"
      ]
     },
     "metadata": {},
     "execution_count": 13
    }
   ],
   "metadata": {}
  },
  {
   "cell_type": "code",
   "execution_count": null,
   "source": [],
   "outputs": [],
   "metadata": {}
  }
 ],
 "metadata": {
  "kernelspec": {
   "name": "python3",
   "display_name": "Python 3.9.5 64-bit ('py39': conda)"
  },
  "language_info": {
   "codemirror_mode": {
    "name": "ipython",
    "version": 3
   },
   "file_extension": ".py",
   "mimetype": "text/x-python",
   "name": "python",
   "nbconvert_exporter": "python",
   "pygments_lexer": "ipython3",
   "version": "3.9.5"
  },
  "varInspector": {
   "cols": {
    "lenName": 16,
    "lenType": 16,
    "lenVar": 40
   },
   "kernels_config": {
    "python": {
     "delete_cmd_postfix": "",
     "delete_cmd_prefix": "del ",
     "library": "var_list.py",
     "varRefreshCmd": "print(var_dic_list())"
    },
    "r": {
     "delete_cmd_postfix": ") ",
     "delete_cmd_prefix": "rm(",
     "library": "var_list.r",
     "varRefreshCmd": "cat(var_dic_list()) "
    }
   },
   "types_to_exclude": [
    "module",
    "function",
    "builtin_function_or_method",
    "instance",
    "_Feature"
   ],
   "window_display": false
  },
  "interpreter": {
   "hash": "f5373fb4843c8011ffffa5caf63cc8a3b678c1ba3d48b07433b40dd896e33187"
  }
 },
 "nbformat": 4,
 "nbformat_minor": 2
}